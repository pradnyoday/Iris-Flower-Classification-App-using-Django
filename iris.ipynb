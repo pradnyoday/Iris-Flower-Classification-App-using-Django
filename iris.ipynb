{
  "nbformat": 4,
  "nbformat_minor": 0,
  "metadata": {
    "colab": {
      "name": "iris.ipynb",
      "provenance": []
    },
    "kernelspec": {
      "name": "python3",
      "display_name": "Python 3"
    }
  },
  "cells": [
    {
      "cell_type": "code",
      "metadata": {
        "id": "Dg8N_vRj12NC",
        "colab_type": "code",
        "colab": {}
      },
      "source": [
        "from sklearn import datasets\n",
        "iris = datasets.load_iris()"
      ],
      "execution_count": 0,
      "outputs": []
    },
    {
      "cell_type": "markdown",
      "metadata": {
        "id": "bGC7gFpE22JU",
        "colab_type": "text"
      },
      "source": [
        "Now assign the data and target\n"
      ]
    },
    {
      "cell_type": "code",
      "metadata": {
        "id": "69oOH2fr2zm-",
        "colab_type": "code",
        "colab": {}
      },
      "source": [
        "x = iris.data\n",
        "y = iris.target"
      ],
      "execution_count": 0,
      "outputs": []
    },
    {
      "cell_type": "markdown",
      "metadata": {
        "id": "v9j5gxRr3Nhn",
        "colab_type": "text"
      },
      "source": [
        "Split the data into training and testing data"
      ]
    },
    {
      "cell_type": "code",
      "metadata": {
        "id": "JyrF91YU3Aee",
        "colab_type": "code",
        "colab": {}
      },
      "source": [
        "from sklearn.model_selection import train_test_split\n",
        "x_train,x_test,y_train,y_test=train_test_split(x,y,test_size=.5)"
      ],
      "execution_count": 0,
      "outputs": []
    },
    {
      "cell_type": "markdown",
      "metadata": {
        "id": "vTNjwO2w3fnt",
        "colab_type": "text"
      },
      "source": [
        "Now its time to Build Model"
      ]
    },
    {
      "cell_type": "code",
      "metadata": {
        "id": "sb9G21qk3de7",
        "colab_type": "code",
        "colab": {}
      },
      "source": [
        "from sklearn import tree\n",
        "classifier=tree.DecisionTreeClassifier()"
      ],
      "execution_count": 0,
      "outputs": []
    },
    {
      "cell_type": "markdown",
      "metadata": {
        "id": "K40WOlwr5bEu",
        "colab_type": "text"
      },
      "source": [
        "Train the model\n"
      ]
    },
    {
      "cell_type": "code",
      "metadata": {
        "id": "4UYhYj925XVf",
        "colab_type": "code",
        "colab": {}
      },
      "source": [
        "build = classifier.fit(x_train,y_train)"
      ],
      "execution_count": 0,
      "outputs": []
    },
    {
      "cell_type": "markdown",
      "metadata": {
        "id": "bLnGvAao5ojU",
        "colab_type": "text"
      },
      "source": [
        "Predictions"
      ]
    },
    {
      "cell_type": "code",
      "metadata": {
        "id": "gl-F8igX5i0o",
        "colab_type": "code",
        "colab": {}
      },
      "source": [
        "preds = classifier.predict(x_test)"
      ],
      "execution_count": 0,
      "outputs": []
    },
    {
      "cell_type": "markdown",
      "metadata": {
        "id": "iCtHCDyY53AU",
        "colab_type": "text"
      },
      "source": [
        "Calculate Accuracy"
      ]
    },
    {
      "cell_type": "code",
      "metadata": {
        "id": "ld81RFDD5vFe",
        "colab_type": "code",
        "colab": {
          "base_uri": "https://localhost:8080/",
          "height": 34
        },
        "outputId": "f154f44e-fd13-4c09-c816-6dbb617ebcc3"
      },
      "source": [
        "from sklearn.metrics import accuracy_score\n",
        "print(accuracy_score(y_test,preds)*100,\"%\")"
      ],
      "execution_count": 15,
      "outputs": [
        {
          "output_type": "stream",
          "text": [
            "96.0 %\n"
          ],
          "name": "stdout"
        }
      ]
    },
    {
      "cell_type": "code",
      "metadata": {
        "id": "HdQO7e6E55eV",
        "colab_type": "code",
        "colab": {}
      },
      "source": [
        ""
      ],
      "execution_count": 0,
      "outputs": []
    }
  ]
}